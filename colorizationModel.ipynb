{
 "cells": [
  {
   "cell_type": "code",
   "execution_count": 49,
   "id": "622a4e2e",
   "metadata": {},
   "outputs": [],
   "source": [
    "import numpy as np\n",
    "from skimage import color\n",
    "import matplotlib.pyplot as plt\n",
    "from keras.layers import Dense, Input, Conv2D, Conv2DTranspose, Flatten, Reshape, MaxPool2D\n",
    "from keras.models import Model\n",
    "from keras.layers import BatchNormalization, Dropout, Activation, concatenate"
   ]
  },
  {
   "cell_type": "code",
   "execution_count": 50,
   "id": "d57bcdf0",
   "metadata": {},
   "outputs": [],
   "source": [
    "pfcn_small = np.load(r'/Users/sunhyeoklee/Desktop/AdvanceProject/pfcn_small.npz')"
   ]
  },
  {
   "cell_type": "code",
   "execution_count": 51,
   "id": "2b08a2d5",
   "metadata": {},
   "outputs": [],
   "source": [
    "train_images = pfcn_small['train_images']\n",
    "test_images = pfcn_small['test_images']"
   ]
  },
  {
   "cell_type": "code",
   "execution_count": 52,
   "id": "a002b1cf",
   "metadata": {},
   "outputs": [],
   "source": [
    "train_gray_images = np.array(\n",
    "    [color.rgb2gray(img).reshape((100, 75, 1)) for img in train_images]\n",
    ")\n",
    "test_gray_images = np.array(\n",
    "    [color.rgb2gray(img).reshape((100, 75, 1)) for img in test_images]\n",
    ")"
   ]
  },
  {
   "cell_type": "code",
   "execution_count": null,
   "id": "3030df96",
   "metadata": {},
   "outputs": [],
   "source": []
  },
  {
   "cell_type": "code",
   "execution_count": null,
   "id": "6ac2f0fe",
   "metadata": {},
   "outputs": [],
   "source": []
  }
 ],
 "metadata": {
  "kernelspec": {
   "display_name": "m3gpu",
   "language": "python",
   "name": "python3"
  },
  "language_info": {
   "codemirror_mode": {
    "name": "ipython",
    "version": 3
   },
   "file_extension": ".py",
   "mimetype": "text/x-python",
   "name": "python",
   "nbconvert_exporter": "python",
   "pygments_lexer": "ipython3",
   "version": "3.10.15"
  }
 },
 "nbformat": 4,
 "nbformat_minor": 5
}
